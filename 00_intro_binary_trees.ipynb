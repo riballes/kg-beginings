{
  "nbformat": 4,
  "nbformat_minor": 0,
  "metadata": {
    "colab": {
      "name": "Copy of 00-intro-binary-trees.ipynb",
      "provenance": [],
      "authorship_tag": "ABX9TyOy5G5yUnGFYjC7OzmP3X3b",
      "include_colab_link": true
    },
    "kernelspec": {
      "name": "python3",
      "display_name": "Python 3"
    },
    "language_info": {
      "name": "python"
    }
  },
  "cells": [
    {
      "cell_type": "markdown",
      "metadata": {
        "id": "view-in-github",
        "colab_type": "text"
      },
      "source": [
        "<a href=\"https://colab.research.google.com/github/riballes/kg-beginings/blob/main/00_intro_binary_trees.ipynb\" target=\"_parent\"><img src=\"https://colab.research.google.com/assets/colab-badge.svg\" alt=\"Open In Colab\"/></a>"
      ]
    },
    {
      "cell_type": "markdown",
      "metadata": {
        "id": "3hW7R_Z8xOqk"
      },
      "source": [
        "# Binary Tree Algorithms (BST)\n",
        "\n"
      ]
    },
    {
      "cell_type": "markdown",
      "metadata": {
        "id": "pTbnbO2rzsW4"
      },
      "source": [
        "## Representing and Implementing a Binary Tree\n",
        "\n",
        "A Binary Tree can be seen as a recursive data structure, meaning that it’s composed of sub-structures of the same kind, in this case, a left and right sub-tree. For good measure, we’ll even add a *parent*, so that we can trace from any node up to the root of the tree.\n"
      ]
    },
    {
      "cell_type": "code",
      "metadata": {
        "id": "oDZR6-PDxJLR"
      },
      "source": [
        "class BinaryTree(): \n",
        "    def __init__(self, val): \n",
        "        self.value = val \n",
        "        self.left = None \n",
        "        self.right = None \n",
        "        self.parent = None\n",
        "\n",
        "    def set_left(self,node):\n",
        "      self.left = node\n",
        "      self.left.parent = self\n",
        "    \n",
        "    def set_right(self,node):\n",
        "      self.right = node\n",
        "      self.right.parent = self\n",
        "    \n",
        "    def inorder(self):\n",
        "      left_vals = self.left.inorder() if self.left is not None else []\n",
        "      right_vals = self.right.inorder() if self.right is not None else []\n",
        "      return left_vals + [self.value] + right_vals"
      ],
      "execution_count": null,
      "outputs": []
    },
    {
      "cell_type": "markdown",
      "metadata": {
        "id": "Pm5bDbiS2xRP"
      },
      "source": [
        "Note: This is the absolute minimum structure you need to implement a Binary Tree. \n",
        "\n",
        "```\n",
        "          4\n",
        "       /      \\\n",
        "      3        7\n",
        "    /  \\     /  \\\n",
        "   1   20   6   30\n",
        "```"
      ]
    },
    {
      "cell_type": "code",
      "metadata": {
        "colab": {
          "base_uri": "https://localhost:8080/"
        },
        "id": "NgDlwod-2zsj",
        "outputId": "dc65dd26-3c33-4e67-f512-a72d691ea28c"
      },
      "source": [
        "tree = BinaryTree(4)\n",
        "left = BinaryTree(3)\n",
        "left.set_left(BinaryTree(1))\n",
        "left.set_right(BinaryTree(20))\n",
        "right = BinaryTree(7)\n",
        "right.set_left(BinaryTree(6))\n",
        "right.set_right(BinaryTree(30))\n",
        "tree.set_left(left)\n",
        "tree.set_right(right)\n",
        "\n",
        "print(tree.inorder())"
      ],
      "execution_count": null,
      "outputs": [
        {
          "output_type": "stream",
          "name": "stdout",
          "text": [
            "[1, 3, 20, 4, 6, 7, 30]\n"
          ]
        }
      ]
    }
  ]
}